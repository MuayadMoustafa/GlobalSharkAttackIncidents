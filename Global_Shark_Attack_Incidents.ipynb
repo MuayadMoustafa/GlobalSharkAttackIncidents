{
  "cells": [
    {
      "cell_type": "markdown",
      "metadata": {
        "id": "46pQ93AgGCYJ"
      },
      "source": [
        "# Global Shark Attack Incidents"
      ]
    },
    {
      "cell_type": "markdown",
      "metadata": {
        "id": "bXhfua_eGCYR"
      },
      "source": [
        "##  Importing packages:"
      ]
    },
    {
      "cell_type": "code",
      "execution_count": null,
      "metadata": {
        "id": "_xNuDJ7MGCYS"
      },
      "outputs": [],
      "source": [
        "import pandas as pd\n",
        "import numpy as np\n",
        "import re\n",
        "import matplotlib.pyplot as plt\n",
        "from src.functions import Case_Number"
      ]
    },
    {
      "cell_type": "markdown",
      "metadata": {
        "id": "phfrntnmGCYU"
      },
      "source": [
        "##  Importing data:"
      ]
    },
    {
      "cell_type": "code",
      "execution_count": null,
      "metadata": {
        "id": "8QsjdN34GCYU",
        "outputId": "fbba1715-f551-46b7-bfd2-6aa89df5dda9"
      },
      "outputs": [
        {
          "data": {
            "text/html": [
              "<div>\n",
              "<style scoped>\n",
              "    .dataframe tbody tr th:only-of-type {\n",
              "        vertical-align: middle;\n",
              "    }\n",
              "\n",
              "    .dataframe tbody tr th {\n",
              "        vertical-align: top;\n",
              "    }\n",
              "\n",
              "    .dataframe thead th {\n",
              "        text-align: right;\n",
              "    }\n",
              "</style>\n",
              "<table border=\"1\" class=\"dataframe\">\n",
              "  <thead>\n",
              "    <tr style=\"text-align: right;\">\n",
              "      <th></th>\n",
              "      <th>Case Number</th>\n",
              "      <th>Date</th>\n",
              "      <th>Year</th>\n",
              "      <th>Type</th>\n",
              "      <th>Country</th>\n",
              "      <th>Area</th>\n",
              "      <th>Location</th>\n",
              "      <th>Activity</th>\n",
              "      <th>Name</th>\n",
              "      <th>Sex</th>\n",
              "      <th>...</th>\n",
              "      <th>Species</th>\n",
              "      <th>Investigator or Source</th>\n",
              "      <th>pdf</th>\n",
              "      <th>href formula</th>\n",
              "      <th>href</th>\n",
              "      <th>Case Number.1</th>\n",
              "      <th>Case Number.2</th>\n",
              "      <th>original order</th>\n",
              "      <th>Unnamed: 22</th>\n",
              "      <th>Unnamed: 23</th>\n",
              "    </tr>\n",
              "  </thead>\n",
              "  <tbody>\n",
              "    <tr>\n",
              "      <th>0</th>\n",
              "      <td>2016.09.18.c</td>\n",
              "      <td>18-Sep-16</td>\n",
              "      <td>2016</td>\n",
              "      <td>Unprovoked</td>\n",
              "      <td>USA</td>\n",
              "      <td>Florida</td>\n",
              "      <td>New Smyrna Beach, Volusia County</td>\n",
              "      <td>Surfing</td>\n",
              "      <td>male</td>\n",
              "      <td>M</td>\n",
              "      <td>...</td>\n",
              "      <td>NaN</td>\n",
              "      <td>Orlando Sentinel, 9/19/2016</td>\n",
              "      <td>2016.09.18.c-NSB.pdf</td>\n",
              "      <td>http://sharkattackfile.net/spreadsheets/pdf_di...</td>\n",
              "      <td>http://sharkattackfile.net/spreadsheets/pdf_di...</td>\n",
              "      <td>2016.09.18.c</td>\n",
              "      <td>2016.09.18.c</td>\n",
              "      <td>5993</td>\n",
              "      <td>NaN</td>\n",
              "      <td>NaN</td>\n",
              "    </tr>\n",
              "    <tr>\n",
              "      <th>1</th>\n",
              "      <td>2016.09.18.b</td>\n",
              "      <td>18-Sep-16</td>\n",
              "      <td>2016</td>\n",
              "      <td>Unprovoked</td>\n",
              "      <td>USA</td>\n",
              "      <td>Florida</td>\n",
              "      <td>New Smyrna Beach, Volusia County</td>\n",
              "      <td>Surfing</td>\n",
              "      <td>Chucky Luciano</td>\n",
              "      <td>M</td>\n",
              "      <td>...</td>\n",
              "      <td>NaN</td>\n",
              "      <td>Orlando Sentinel, 9/19/2016</td>\n",
              "      <td>2016.09.18.b-Luciano.pdf</td>\n",
              "      <td>http://sharkattackfile.net/spreadsheets/pdf_di...</td>\n",
              "      <td>http://sharkattackfile.net/spreadsheets/pdf_di...</td>\n",
              "      <td>2016.09.18.b</td>\n",
              "      <td>2016.09.18.b</td>\n",
              "      <td>5992</td>\n",
              "      <td>NaN</td>\n",
              "      <td>NaN</td>\n",
              "    </tr>\n",
              "    <tr>\n",
              "      <th>2</th>\n",
              "      <td>2016.09.18.a</td>\n",
              "      <td>18-Sep-16</td>\n",
              "      <td>2016</td>\n",
              "      <td>Unprovoked</td>\n",
              "      <td>USA</td>\n",
              "      <td>Florida</td>\n",
              "      <td>New Smyrna Beach, Volusia County</td>\n",
              "      <td>Surfing</td>\n",
              "      <td>male</td>\n",
              "      <td>M</td>\n",
              "      <td>...</td>\n",
              "      <td>NaN</td>\n",
              "      <td>Orlando Sentinel, 9/19/2016</td>\n",
              "      <td>2016.09.18.a-NSB.pdf</td>\n",
              "      <td>http://sharkattackfile.net/spreadsheets/pdf_di...</td>\n",
              "      <td>http://sharkattackfile.net/spreadsheets/pdf_di...</td>\n",
              "      <td>2016.09.18.a</td>\n",
              "      <td>2016.09.18.a</td>\n",
              "      <td>5991</td>\n",
              "      <td>NaN</td>\n",
              "      <td>NaN</td>\n",
              "    </tr>\n",
              "  </tbody>\n",
              "</table>\n",
              "<p>3 rows × 24 columns</p>\n",
              "</div>"
            ],
            "text/plain": [
              "    Case Number       Date  Year        Type Country     Area  \\\n",
              "0  2016.09.18.c  18-Sep-16  2016  Unprovoked     USA  Florida   \n",
              "1  2016.09.18.b  18-Sep-16  2016  Unprovoked     USA  Florida   \n",
              "2  2016.09.18.a  18-Sep-16  2016  Unprovoked     USA  Florida   \n",
              "\n",
              "                           Location Activity            Name Sex   ...  \\\n",
              "0  New Smyrna Beach, Volusia County  Surfing            male    M  ...   \n",
              "1  New Smyrna Beach, Volusia County  Surfing  Chucky Luciano    M  ...   \n",
              "2  New Smyrna Beach, Volusia County  Surfing            male    M  ...   \n",
              "\n",
              "  Species        Investigator or Source                       pdf  \\\n",
              "0      NaN  Orlando Sentinel, 9/19/2016      2016.09.18.c-NSB.pdf   \n",
              "1      NaN  Orlando Sentinel, 9/19/2016  2016.09.18.b-Luciano.pdf   \n",
              "2      NaN  Orlando Sentinel, 9/19/2016      2016.09.18.a-NSB.pdf   \n",
              "\n",
              "                                        href formula  \\\n",
              "0  http://sharkattackfile.net/spreadsheets/pdf_di...   \n",
              "1  http://sharkattackfile.net/spreadsheets/pdf_di...   \n",
              "2  http://sharkattackfile.net/spreadsheets/pdf_di...   \n",
              "\n",
              "                                                href Case Number.1  \\\n",
              "0  http://sharkattackfile.net/spreadsheets/pdf_di...  2016.09.18.c   \n",
              "1  http://sharkattackfile.net/spreadsheets/pdf_di...  2016.09.18.b   \n",
              "2  http://sharkattackfile.net/spreadsheets/pdf_di...  2016.09.18.a   \n",
              "\n",
              "  Case Number.2 original order Unnamed: 22 Unnamed: 23  \n",
              "0  2016.09.18.c           5993         NaN         NaN  \n",
              "1  2016.09.18.b           5992         NaN         NaN  \n",
              "2  2016.09.18.a           5991         NaN         NaN  \n",
              "\n",
              "[3 rows x 24 columns]"
            ]
          },
          "metadata": {},
          "output_type": "display_data"
        },
        {
          "name": "stdout",
          "output_type": "stream",
          "text": [
            "(5992, 24)\n"
          ]
        }
      ],
      "source": [
        "df = pd.read_csv('./Input/GSAF5.csv', encoding = 'ISO-8859-1')\n",
        "display(df.head(3))\n",
        "print(df.shape)"
      ]
    },
    {
      "cell_type": "markdown",
      "metadata": {
        "id": "2zEGePDKGCYV"
      },
      "source": [
        " ##  A First Look at the Data:"
      ]
    },
    {
      "cell_type": "code",
      "execution_count": null,
      "metadata": {
        "id": "vNHl6agBGCYb",
        "outputId": "40470af1-c510-49bd-e3dc-4e46aeff228a"
      },
      "outputs": [
        {
          "name": "stdout",
          "output_type": "stream",
          "text": [
            "Country          43\n",
            "Activity        527\n",
            "Name            200\n",
            "Sex             567\n",
            "Age            2681\n",
            "Fatal (Y/N)      19\n",
            "Unnamed: 22    5991\n",
            "Unnamed: 23    5990\n",
            "dtype: int64\n",
            "Total rows in the datataset: 5992\n"
          ]
        }
      ],
      "source": [
        "# Evaluating missing values:\n",
        "null_cols = df.isnull().sum()\n",
        "print(null_cols[null_cols > 0])\n",
        "print('Total rows in the datataset:',df.shape[0])\n",
        "# Some columns have relatively few null values while others have thousands of nulls."
      ]
    },
    {
      "cell_type": "code",
      "execution_count": null,
      "metadata": {
        "id": "wJ14cTUCGCYi",
        "outputId": "dcf0b477-cea0-4715-f57e-54242a77b9fb"
      },
      "outputs": [
        {
          "name": "stdout",
          "output_type": "stream",
          "text": [
            "['Date', 'Year', 'Type', 'Country', 'Activity', 'Name', 'Sex', 'Age', 'Fatal']\n"
          ]
        }
      ],
      "source": [
        "# Renaming some columns:\n",
        "df = df.rename(columns={'Fatal (Y/N)': 'Fatal'})\n",
        "df = df.rename(columns={'Sex ': 'Sex'})\n",
        "print([e for e in df.columns])"
      ]
    },
    {
      "cell_type": "code",
      "execution_count": null,
      "metadata": {
        "id": "fENlgJnTGCYk",
        "outputId": "2a19208c-24c5-46c0-ed95-98e1b0bd16db"
      },
      "outputs": [
        {
          "name": "stdout",
          "output_type": "stream",
          "text": [
            "N    4325\n",
            "Y    1553\n",
            "Name: Fatal, dtype: int64\n"
          ]
        },
        {
          "data": {
            "image/png": "[encoded data removed]",
            "text/plain": [
              "<Figure size 432x432 with 1 Axes>"
            ]
          },
          "metadata": {},
          "output_type": "display_data"
        }
      ],
      "source": [
        "print(df['Fatal'].value_counts())\n",
        "explode = [0.1 for i in range(len(df['Fatal'].value_counts().index.tolist()))]\n",
        "\n",
        "fig = plt.gcf()\n",
        "fig.set_size_inches(6,6)\n",
        "plt.pie([e for e in df['Fatal'].value_counts()], explode = explode, labels=df['Fatal'].value_counts().index.tolist(), autopct='%1.1f%%', shadow=True, startangle=140)\n",
        "plt.axis('equal')\n",
        "plt.show()"
      ]
    },
    {
      "cell_type": "markdown",
      "metadata": {
        "id": "O_Hq5p-LGCYl"
      },
      "source": [
        "**Results:** Most attacks are not fatal (73.6% vs. 26.4%).\n",
        "\n",
        "✔️ *Most attacks are not fatal because, you know, sharks are cute.*"
      ]
    },
    {
      "cell_type": "markdown",
      "metadata": {
        "id": "oCs0lXjwGCYl"
      },
      "source": [
        "### Date"
      ]
    },
    {
      "cell_type": "code",
      "execution_count": null,
      "metadata": {
        "id": "-VA9H_ztGCYl",
        "outputId": "ac93d5a3-324e-423b-8927-21ec0ff5192f"
      },
      "outputs": [
        {
          "name": "stdout",
          "output_type": "stream",
          "text": [
            "{nan, 'Jan', 'Nov', 'Sep', 'Jun', 'Mar', 'Jul', 'Dec', 'May', 'Aug', 'Feb', 'Oct', 'Apr'}\n"
          ]
        },
        {
          "data": {
            "text/html": [
              "<div>\n",
              "<style scoped>\n",
              "    .dataframe tbody tr th:only-of-type {\n",
              "        vertical-align: middle;\n",
              "    }\n",
              "\n",
              "    .dataframe tbody tr th {\n",
              "        vertical-align: top;\n",
              "    }\n",
              "\n",
              "    .dataframe thead th {\n",
              "        text-align: right;\n",
              "    }\n",
              "</style>\n",
              "<table border=\"1\" class=\"dataframe\">\n",
              "  <thead>\n",
              "    <tr style=\"text-align: right;\">\n",
              "      <th></th>\n",
              "      <th>Date</th>\n",
              "      <th>Year</th>\n",
              "      <th>Type</th>\n",
              "      <th>Country</th>\n",
              "      <th>Activity</th>\n",
              "      <th>Name</th>\n",
              "      <th>Sex</th>\n",
              "      <th>Age</th>\n",
              "      <th>Fatal</th>\n",
              "      <th>Month</th>\n",
              "    </tr>\n",
              "  </thead>\n",
              "  <tbody>\n",
              "    <tr>\n",
              "      <th>0</th>\n",
              "      <td>18-Sep-16</td>\n",
              "      <td>2016</td>\n",
              "      <td>Unprovoked</td>\n",
              "      <td>USA</td>\n",
              "      <td>Surfing</td>\n",
              "      <td>male</td>\n",
              "      <td>M</td>\n",
              "      <td>16</td>\n",
              "      <td>N</td>\n",
              "      <td>Sep</td>\n",
              "    </tr>\n",
              "    <tr>\n",
              "      <th>1</th>\n",
              "      <td>18-Sep-16</td>\n",
              "      <td>2016</td>\n",
              "      <td>Unprovoked</td>\n",
              "      <td>USA</td>\n",
              "      <td>Surfing</td>\n",
              "      <td>Chucky Luciano</td>\n",
              "      <td>M</td>\n",
              "      <td>36</td>\n",
              "      <td>N</td>\n",
              "      <td>Sep</td>\n",
              "    </tr>\n",
              "    <tr>\n",
              "      <th>2</th>\n",
              "      <td>18-Sep-16</td>\n",
              "      <td>2016</td>\n",
              "      <td>Unprovoked</td>\n",
              "      <td>USA</td>\n",
              "      <td>Surfing</td>\n",
              "      <td>male</td>\n",
              "      <td>M</td>\n",
              "      <td>43</td>\n",
              "      <td>N</td>\n",
              "      <td>Sep</td>\n",
              "    </tr>\n",
              "  </tbody>\n",
              "</table>\n",
              "</div>"
            ],
            "text/plain": [
              "        Date  Year        Type Country Activity            Name Sex Age Fatal  \\\n",
              "0  18-Sep-16  2016  Unprovoked     USA  Surfing            male   M  16     N   \n",
              "1  18-Sep-16  2016  Unprovoked     USA  Surfing  Chucky Luciano   M  36     N   \n",
              "2  18-Sep-16  2016  Unprovoked     USA  Surfing            male   M  43     N   \n",
              "\n",
              "  Month  \n",
              "0   Sep  \n",
              "1   Sep  \n",
              "2   Sep  "
            ]
          },
          "metadata": {},
          "output_type": "display_data"
        }
      ],
      "source": [
        "# I'm going to extract 'month' information:\n",
        "\n",
        "# Months are stored before a dash.\n",
        "lista_date = [re.findall(\"(?i)[a-z]+-\", str(e)) for e in df['Date']]\n",
        "\n",
        "lista_date_2 = []\n",
        "for e in lista_date:\n",
        "    if len(e)>0:\n",
        "        lista_date_2.append(e[0][:-1])\n",
        "    else:\n",
        "        lista_date_2.append('NaN')\n",
        "\n",
        "lista_date_2 = [re.sub('Sept', 'Sep', str(e)) for e in lista_date_2]\n",
        "lista_date_2 = [re.sub('March', 'Mar', str(e)) for e in lista_date_2]\n",
        "lista_date_2 = [re.sub('Ap$', 'Apr', str(e)) for e in lista_date_2]\n",
        "lista_date_2 = [re.sub('(?i)mid|Summer|Spanish|Jut', 'NaN', str(e)) for e in lista_date_2]\n",
        "\n",
        "df['Month'] = lista_date_2\n",
        "df['Month'].replace({'NaN': np.nan}, inplace=True)\n",
        "print(set(df.Month))\n",
        "display(df.head(3))"
      ]
    },
    {
      "cell_type": "code",
      "execution_count": null,
      "metadata": {
        "id": "v6y8Hp3LGCYm",
        "outputId": "5b7f7a83-79fc-450c-b6d0-c939b799f9b8"
      },
      "outputs": [
        {
          "name": "stdout",
          "output_type": "stream",
          "text": [
            "Jul    635\n",
            "Aug    579\n",
            "Sep    523\n",
            "Jan    500\n",
            "Jun    473\n",
            "Dec    417\n",
            "Oct    411\n",
            "Apr    407\n",
            "Mar    401\n",
            "Nov    397\n",
            "May    369\n",
            "Feb    360\n",
            "Name: Month, dtype: int64\n"
          ]
        },
        {
          "data": {
            "image/png": "[encoded data removed]",
            "text/plain": [
              "<Figure size 432x432 with 1 Axes>"
            ]
          },
          "metadata": {},
          "output_type": "display_data"
        }
      ],
      "source": [
        "print(df['Month'].value_counts())\n",
        "explode = [0.1 for i in range(len(df['Month'].value_counts().index.tolist()))]\n",
        "\n",
        "fig = plt.gcf()\n",
        "fig.set_size_inches(6,6)\n",
        "plt.pie([e for e in df['Month'].value_counts()], explode = explode, labels=df['Month'].value_counts().index.tolist(), autopct='%1.1f%%', shadow=True, startangle=140)\n",
        "plt.axis('equal')\n",
        "plt.show()"
      ]
    },
    {
      "cell_type": "code",
      "execution_count": null,
      "metadata": {
        "id": "Ar6J_bW1GCYm",
        "outputId": "7ea42acb-12aa-4e5e-d93b-604370a2ef5d"
      },
      "outputs": [
        {
          "data": {
            "text/plain": [
              "<matplotlib.axes._subplots.AxesSubplot at 0x2c71cf11390>"
            ]
          },
          "execution_count": 21,
          "metadata": {},
          "output_type": "execute_result"
        },
        {
          "data": {
            "image/png": "[encoded data removed]",
            "text/plain": [
              "<Figure size 432x288 with 1 Axes>"
            ]
          },
          "metadata": {
            "needs_background": "light"
          },
          "output_type": "display_data"
        }
      ],
      "source": [
        "plt.title('Month')\n",
        "plt.xlabel('Month')\n",
        "plt.ylabel('Value counts')\n",
        "df['Month'].value_counts().plot(kind='bar',)"
      ]
    },
    {
      "cell_type": "markdown",
      "metadata": {
        "id": "Qv-MsbGLGCYn"
      },
      "source": [
        "**Results:** July is the month in which there are more attacks, but the differences between months are minimal.\n",
        "\n",
        "✔️ *Humans get into the sea in any month of the year.*"
      ]
    },
    {
      "cell_type": "markdown",
      "metadata": {
        "id": "DVEpvmDyGCYn"
      },
      "source": [
        "### Year"
      ]
    },
    {
      "cell_type": "code",
      "execution_count": null,
      "metadata": {
        "id": "XD4oK7hAGCYp"
      },
      "outputs": [],
      "source": [
        "# df[\"Year\"].value_counts().sort_index()\n",
        "year_values = [int(e) for e in df[\"Year\"].value_counts().sort_index()]\n",
        "year_labels = df[\"Year\"].value_counts().sort_index().index.tolist()\n",
        "year_labels_2 = [int(e) for e in year_labels]\n",
        "# print(year_values)\n",
        "# print(year_labels_2)"
      ]
    },
    {
      "cell_type": "code",
      "execution_count": null,
      "metadata": {
        "id": "hcM1cIRrGCYp",
        "outputId": "28c8a7b8-5818-4481-a9f9-e76111caad3e"
      },
      "outputs": [
        {
          "data": {
            "text/plain": [
              "<matplotlib.collections.PathCollection at 0x16c2039b668>"
            ]
          },
          "execution_count": 26,
          "metadata": {},
          "output_type": "execute_result"
        },
        {
          "data": {
            "image/png": "[encoded data removed]",
            "text/plain": [
              "<Figure size 720x720 with 1 Axes>"
            ]
          },
          "metadata": {
            "needs_background": "light"
          },
          "output_type": "display_data"
        }
      ],
      "source": [
        "plt.title('Year')\n",
        "plt.xlabel('Year')\n",
        "plt.ylabel('Value counts')\n",
        "fig = plt.gcf()\n",
        "fig.set_size_inches(10,10)\n",
        "plt.scatter(year_labels_2, year_values)"
      ]
    },
    {
      "cell_type": "code",
      "execution_count": null,
      "metadata": {
        "id": "staXwByoGCYp",
        "outputId": "f5dcb17a-17c8-40a8-d083-19186c2d5be8"
      },
      "outputs": [
        {
          "data": {
            "text/html": [
              "<div>\n",
              "<style scoped>\n",
              "    .dataframe tbody tr th:only-of-type {\n",
              "        vertical-align: middle;\n",
              "    }\n",
              "\n",
              "    .dataframe tbody tr th {\n",
              "        vertical-align: top;\n",
              "    }\n",
              "\n",
              "    .dataframe thead th {\n",
              "        text-align: right;\n",
              "    }\n",
              "</style>\n",
              "<table border=\"1\" class=\"dataframe\">\n",
              "  <thead>\n",
              "    <tr style=\"text-align: right;\">\n",
              "      <th></th>\n",
              "      <th>Year</th>\n",
              "      <th>Type</th>\n",
              "      <th>Country</th>\n",
              "      <th>Activity</th>\n",
              "      <th>Name</th>\n",
              "      <th>Sex</th>\n",
              "      <th>Age</th>\n",
              "      <th>Fatal</th>\n",
              "      <th>Month</th>\n",
              "    </tr>\n",
              "  </thead>\n",
              "  <tbody>\n",
              "    <tr>\n",
              "      <th>0</th>\n",
              "      <td>2016.0</td>\n",
              "      <td>Unprovoked</td>\n",
              "      <td>USA</td>\n",
              "      <td>Surfing</td>\n",
              "      <td>male</td>\n",
              "      <td>M</td>\n",
              "      <td>16</td>\n",
              "      <td>N</td>\n",
              "      <td>Sep</td>\n",
              "    </tr>\n",
              "    <tr>\n",
              "      <th>1</th>\n",
              "      <td>2016.0</td>\n",
              "      <td>Unprovoked</td>\n",
              "      <td>USA</td>\n",
              "      <td>Surfing</td>\n",
              "      <td>Chucky Luciano</td>\n",
              "      <td>M</td>\n",
              "      <td>36</td>\n",
              "      <td>N</td>\n",
              "      <td>Sep</td>\n",
              "    </tr>\n",
              "    <tr>\n",
              "      <th>2</th>\n",
              "      <td>2016.0</td>\n",
              "      <td>Unprovoked</td>\n",
              "      <td>USA</td>\n",
              "      <td>Surfing</td>\n",
              "      <td>male</td>\n",
              "      <td>M</td>\n",
              "      <td>43</td>\n",
              "      <td>N</td>\n",
              "      <td>Sep</td>\n",
              "    </tr>\n",
              "  </tbody>\n",
              "</table>\n",
              "</div>"
            ],
            "text/plain": [
              "     Year        Type Country Activity            Name Sex Age Fatal Month\n",
              "0  2016.0  Unprovoked     USA  Surfing            male   M  16     N   Sep\n",
              "1  2016.0  Unprovoked     USA  Surfing  Chucky Luciano   M  36     N   Sep\n",
              "2  2016.0  Unprovoked     USA  Surfing            male   M  43     N   Sep"
            ]
          },
          "metadata": {},
          "output_type": "display_data"
        }
      ],
      "source": [
        "# I won't need 'Date' column anymore:\n",
        "\n",
        "df = df.drop(['Date'], axis=1)\n",
        "display(df.head(3))"
      ]
    },
    {
      "cell_type": "markdown",
      "metadata": {
        "id": "HcKEA1MvGCYq"
      },
      "source": [
        "**Results:** There are more registered attacks now than in the past.\n",
        "\n",
        "✔️ *With each passing year (and century), more people go swimming in the sea (of course it is not because attacks are now better registered than in the past...).*"
      ]
    },
    {
      "cell_type": "markdown",
      "metadata": {
        "id": "CfOKD4T9GCY3"
      },
      "source": [
        "### Century"
      ]
    },
    {
      "cell_type": "code",
      "execution_count": null,
      "metadata": {
        "id": "Ap9MgQrIGCY3",
        "outputId": "83fd6a05-8f00-438b-d6c1-d1cc6d01f765"
      },
      "outputs": [
        {
          "data": {
            "text/html": [
              "<div>\n",
              "<style scoped>\n",
              "    .dataframe tbody tr th:only-of-type {\n",
              "        vertical-align: middle;\n",
              "    }\n",
              "\n",
              "    .dataframe tbody tr th {\n",
              "        vertical-align: top;\n",
              "    }\n",
              "\n",
              "    .dataframe thead th {\n",
              "        text-align: right;\n",
              "    }\n",
              "</style>\n",
              "<table border=\"1\" class=\"dataframe\">\n",
              "  <thead>\n",
              "    <tr style=\"text-align: right;\">\n",
              "      <th></th>\n",
              "      <th>Year</th>\n",
              "      <th>Type</th>\n",
              "      <th>Country</th>\n",
              "      <th>Activity</th>\n",
              "      <th>Name</th>\n",
              "      <th>Sex</th>\n",
              "      <th>Age</th>\n",
              "      <th>Fatal</th>\n",
              "      <th>Month</th>\n",
              "      <th>Century</th>\n",
              "    </tr>\n",
              "  </thead>\n",
              "  <tbody>\n",
              "    <tr>\n",
              "      <th>0</th>\n",
              "      <td>2016.0</td>\n",
              "      <td>Unprovoked</td>\n",
              "      <td>USA</td>\n",
              "      <td>Surfing</td>\n",
              "      <td>male</td>\n",
              "      <td>M</td>\n",
              "      <td>16</td>\n",
              "      <td>N</td>\n",
              "      <td>Sep</td>\n",
              "      <td>XXI</td>\n",
              "    </tr>\n",
              "    <tr>\n",
              "      <th>1</th>\n",
              "      <td>2016.0</td>\n",
              "      <td>Unprovoked</td>\n",
              "      <td>USA</td>\n",
              "      <td>Surfing</td>\n",
              "      <td>Chucky Luciano</td>\n",
              "      <td>M</td>\n",
              "      <td>36</td>\n",
              "      <td>N</td>\n",
              "      <td>Sep</td>\n",
              "      <td>XXI</td>\n",
              "    </tr>\n",
              "    <tr>\n",
              "      <th>2</th>\n",
              "      <td>2016.0</td>\n",
              "      <td>Unprovoked</td>\n",
              "      <td>USA</td>\n",
              "      <td>Surfing</td>\n",
              "      <td>male</td>\n",
              "      <td>M</td>\n",
              "      <td>43</td>\n",
              "      <td>N</td>\n",
              "      <td>Sep</td>\n",
              "      <td>XXI</td>\n",
              "    </tr>\n",
              "  </tbody>\n",
              "</table>\n",
              "</div>"
            ],
            "text/plain": [
              "     Year        Type Country Activity            Name Sex Age Fatal Month  \\\n",
              "0  2016.0  Unprovoked     USA  Surfing            male   M  16     N   Sep   \n",
              "1  2016.0  Unprovoked     USA  Surfing  Chucky Luciano   M  36     N   Sep   \n",
              "2  2016.0  Unprovoked     USA  Surfing            male   M  43     N   Sep   \n",
              "\n",
              "  Century  \n",
              "0     XXI  \n",
              "1     XXI  \n",
              "2     XXI  "
            ]
          },
          "metadata": {},
          "output_type": "display_data"
        }
      ],
      "source": [
        "# Binning 'Year' to create a new variable: 'Century':\n",
        "\n",
        "# print(df['Year'].min()) # 1543.0\n",
        "# print(df['Year'].max()) # 2016.0\n",
        "\n",
        "year_labels = ['XVI','XVII','XVIII','XIX','XX','XXI']\n",
        "cutoffs = [1499,1599,1699,1799,1899,1999,2099]\n",
        "century = pd.cut(df['Year'], cutoffs, labels=year_labels)\n",
        "\n",
        "df['Century'] = century\n",
        "display(df.head(3))"
      ]
    },
    {
      "cell_type": "code",
      "execution_count": null,
      "metadata": {
        "id": "pCh0Y0JRGCY3",
        "outputId": "28d9bd2a-b794-459b-c435-9d672f2f37da"
      },
      "outputs": [
        {
          "name": "stdout",
          "output_type": "stream",
          "text": [
            "XX       3545\n",
            "XXI      1868\n",
            "XIX       511\n",
            "XVIII      22\n",
            "XVII        5\n",
            "XVI         5\n",
            "Name: Century, dtype: int64\n"
          ]
        },
        {
          "data": {
            "image/png": "[encoded data removed]",
            "text/plain": [
              "<Figure size 432x432 with 1 Axes>"
            ]
          },
          "metadata": {},
          "output_type": "display_data"
        }
      ],
      "source": [
        "print(df['Century'].value_counts())\n",
        "century_value_counts = [e for e in df['Century'].value_counts()]\n",
        "century_value_counts_grouped = [century_value_counts[0],century_value_counts[1],century_value_counts[2],century_value_counts[3]+century_value_counts[4]+century_value_counts[5]]\n",
        "explode = [0.1 for i in range(len(century_value_counts_grouped))]\n",
        "\n",
        "fig = plt.gcf()\n",
        "fig.set_size_inches(6,6)\n",
        "plt.pie(century_value_counts_grouped, explode=explode, labels=['XX','XXI','XIX','XVI-XVIII'], autopct='%1.1f%%', shadow=True, startangle=140)\n",
        "plt.axis('equal')\n",
        "plt.show()"
      ]
    },
    {
      "cell_type": "code",
      "execution_count": null,
      "metadata": {
        "id": "SPBPMeFdGCY4",
        "outputId": "b124c4e8-cb34-4d70-f2ce-95f7ac8a3f58"
      },
      "outputs": [
        {
          "data": {
            "text/plain": [
              "<matplotlib.axes._subplots.AxesSubplot at 0x2c71bf2c3c8>"
            ]
          },
          "execution_count": 28,
          "metadata": {},
          "output_type": "execute_result"
        },
        {
          "data": {
            "image/png": "[encoded data removed]",
            "text/plain": [
              "<Figure size 432x288 with 1 Axes>"
            ]
          },
          "metadata": {
            "needs_background": "light"
          },
          "output_type": "display_data"
        }
      ],
      "source": [
        "plt.title('Century')\n",
        "plt.xlabel('Century')\n",
        "plt.ylabel('Value counts')\n",
        "df['Century'].value_counts().plot(kind='bar')"
      ]
    },
    {
      "cell_type": "markdown",
      "metadata": {
        "id": "Q0iYufRXGCY4"
      },
      "source": [
        "**Results:** There are more registered attacks now than in the past.\n",
        "\n",
        "✔️ *With each passing year (and century), more people go swimming in the sea (of course it is not because attacks are now better registered than in the past...).*"
      ]
    },
    {
      "cell_type": "markdown",
      "metadata": {
        "id": "oCcm7qY_GCY5"
      },
      "source": [
        "### Activity"
      ]
    },
    {
      "cell_type": "code",
      "execution_count": null,
      "metadata": {
        "id": "DxMfG0htGCY5",
        "outputId": "dafc6840-40b3-4e90-c13b-d13c4c925db6"
      },
      "outputs": [
        {
          "name": "stdout",
          "output_type": "stream",
          "text": [
            "[('Swimming', 1047), ('Surfing', 1013), ('Others', 894), ('Fishing', 687), ('Diving', 509), ('Spearfishing', 395), ('Bathing', 177), ('Wading', 162), ('Standing', 128), ('Boarding', 127), ('Snorkeling', 82), ('Floating', 46), ('Treading', 39), ('Kayaking', 35), ('Skiing', 34), ('Attempting', 30), ('Playing', 25), ('Walking', 24), ('Rowing', 21), ('Sitting', 21), ('Windsurfing', 20), ('Paddling', 16), ('Freediving', 14), ('Sinking', 14), ('Canoeing', 13), ('Sailing', 13), ('Collecting', 12), ('Skindiving', 11), ('Netting', 11), ('Washing', 11)]\n"
          ]
        }
      ],
      "source": [
        "# I'm going to add to the \"Others\" category those activities with an occurrence < 10:\n",
        "lista_aux = []\n",
        "for e in set(lista_activity_2):\n",
        "    lista_aux.append((e, lista_activity_2.count(e)))\n",
        "lista_aux.sort(key=lambda tup: tup[1], reverse=True)\n",
        "\n",
        "print([e for e in lista_aux if e[1]> 10])\n",
        "activities = [e[0] for e in lista_aux if e[1]> 10]"
      ]
    },
    {
      "cell_type": "code",
      "execution_count": null,
      "metadata": {
        "id": "kGrkmmB6GCY6",
        "outputId": "2eb80464-ffb4-44c9-bac8-cf60130013ad"
      },
      "outputs": [
        {
          "name": "stdout",
          "output_type": "stream",
          "text": [
            "{'Swimming', 'Canoeing', 'Rowing', 'Collecting', 'Fishing', 'Boarding', 'Snorkeling', 'Freediving', 'Surfing', 'Sailing', 'Skindiving', 'Attempting', 'Spearfishing', 'Standing', 'Skiing', 'Paddling', 'Netting', 'Walking', 'Windsurfing', 'Playing', 'Sinking', 'Bathing', 'Washing', 'Wading', 'Kayaking', 'Diving', 'Treading', 'Others', 'Sitting', 'Floating'}\n"
          ]
        }
      ],
      "source": [
        "lista_activity_3 = ['Others' if e not in activities else e for e in lista_activity_2]\n",
        "print(set(lista_activity_3))"
      ]
    },
    {
      "cell_type": "code",
      "execution_count": null,
      "metadata": {
        "id": "HJiarurmGCY9",
        "outputId": "af4374b0-9f5f-4b98-e519-335a50498996"
      },
      "outputs": [
        {
          "name": "stdout",
          "output_type": "stream",
          "text": [
            "527\n"
          ]
        },
        {
          "data": {
            "text/plain": [
              "Swimming           1309\n",
              "Surfing            1013\n",
              "Others              740\n",
              "Fishing             710\n",
              "Diving              509\n",
              "Spearfishing        395\n",
              "ShoreActivities     360\n",
              "WaterSkiing         161\n",
              "Freediving          107\n",
              "Paddling             85\n",
              "Sailing              34\n",
              "Sinking              22\n",
              "Windsurfing          20\n",
              "Name: Activities, dtype: int64"
            ]
          },
          "execution_count": 40,
          "metadata": {},
          "output_type": "execute_result"
        }
      ],
      "source": [
        "df['Activities'] = lista_activity_3\n",
        "print(df['Activities'].isnull().sum())\n",
        "df['Activities'].value_counts()"
      ]
    },
    {
      "cell_type": "code",
      "execution_count": null,
      "metadata": {
        "id": "n2086H9SGCY-"
      },
      "outputs": [],
      "source": [
        "explode = [0.1 for i in range(len(df['Activities'].value_counts().index.tolist()))]\n",
        "explode = explode[0:11]\n",
        "activity_values = [e for e in df['Activities'].value_counts()]\n",
        "activity_values_2 = activity_values[0:10]\n",
        "activity_values_2.append(activity_values[10]+activity_values[11]+activity_values[12])\n",
        "activity_labels = df['Activities'].value_counts().index.tolist()\n",
        "activity_labels_2 = activity_labels[0:10]\n",
        "activity_labels_2.append('Sailing + Sinking + Windsurfing')"
      ]
    },
    {
      "cell_type": "code",
      "execution_count": null,
      "metadata": {
        "id": "1Mac3O_qGCY-",
        "outputId": "964769c0-3432-483f-e139-51e6dd8ad5fa"
      },
      "outputs": [
        {
          "data": {
            "image/png": "[encoded data removed]",
            "text/plain": [
              "<Figure size 432x432 with 1 Axes>"
            ]
          },
          "metadata": {},
          "output_type": "display_data"
        }
      ],
      "source": [
        "fig = plt.gcf()\n",
        "fig.set_size_inches(6,6)\n",
        "plt.pie(activity_values_2, explode = explode, labels= activity_labels_2, autopct='%1.0f%%', shadow=True)\n",
        "plt.axis('equal')\n",
        "plt.show()"
      ]
    },
    {
      "cell_type": "code",
      "execution_count": null,
      "metadata": {
        "id": "J32XHyyZGCY_",
        "outputId": "1307c96d-c492-4091-c015-f05d782c7eb8"
      },
      "outputs": [
        {
          "data": {
            "text/plain": [
              "<matplotlib.axes._subplots.AxesSubplot at 0x2c71c65c908>"
            ]
          },
          "execution_count": 43,
          "metadata": {},
          "output_type": "execute_result"
        },
        {
          "data": {
            "image/png": "[encoded data removed]",
            "text/plain": [
              "<Figure size 432x288 with 1 Axes>"
            ]
          },
          "metadata": {
            "needs_background": "light"
          },
          "output_type": "display_data"
        }
      ],
      "source": [
        "plt.title('Activities')\n",
        "plt.xlabel('Activities')\n",
        "plt.ylabel('Value counts')\n",
        "df['Activities'].value_counts().plot(kind='bar')"
      ]
    },
    {
      "cell_type": "code",
      "execution_count": null,
      "metadata": {
        "id": "b_bv1xH8GCY_",
        "outputId": "832e1a7b-beeb-44ee-efe6-fc7cc7f7fc99"
      },
      "outputs": [
        {
          "data": {
            "text/html": [
              "<div>\n",
              "<style scoped>\n",
              "    .dataframe tbody tr th:only-of-type {\n",
              "        vertical-align: middle;\n",
              "    }\n",
              "\n",
              "    .dataframe tbody tr th {\n",
              "        vertical-align: top;\n",
              "    }\n",
              "\n",
              "    .dataframe thead th {\n",
              "        text-align: right;\n",
              "    }\n",
              "</style>\n",
              "<table border=\"1\" class=\"dataframe\">\n",
              "  <thead>\n",
              "    <tr style=\"text-align: right;\">\n",
              "      <th></th>\n",
              "      <th>Year</th>\n",
              "      <th>Type</th>\n",
              "      <th>Country</th>\n",
              "      <th>Name</th>\n",
              "      <th>Sex</th>\n",
              "      <th>Age</th>\n",
              "      <th>Fatal</th>\n",
              "      <th>Month</th>\n",
              "      <th>Century</th>\n",
              "      <th>Activities</th>\n",
              "    </tr>\n",
              "  </thead>\n",
              "  <tbody>\n",
              "    <tr>\n",
              "      <th>0</th>\n",
              "      <td>2016.0</td>\n",
              "      <td>Unprovoked</td>\n",
              "      <td>USA</td>\n",
              "      <td>male</td>\n",
              "      <td>M</td>\n",
              "      <td>16</td>\n",
              "      <td>N</td>\n",
              "      <td>Sep</td>\n",
              "      <td>XXI</td>\n",
              "      <td>Surfing</td>\n",
              "    </tr>\n",
              "    <tr>\n",
              "      <th>1</th>\n",
              "      <td>2016.0</td>\n",
              "      <td>Unprovoked</td>\n",
              "      <td>USA</td>\n",
              "      <td>Chucky Luciano</td>\n",
              "      <td>M</td>\n",
              "      <td>36</td>\n",
              "      <td>N</td>\n",
              "      <td>Sep</td>\n",
              "      <td>XXI</td>\n",
              "      <td>Surfing</td>\n",
              "    </tr>\n",
              "    <tr>\n",
              "      <th>2</th>\n",
              "      <td>2016.0</td>\n",
              "      <td>Unprovoked</td>\n",
              "      <td>USA</td>\n",
              "      <td>male</td>\n",
              "      <td>M</td>\n",
              "      <td>43</td>\n",
              "      <td>N</td>\n",
              "      <td>Sep</td>\n",
              "      <td>XXI</td>\n",
              "      <td>Surfing</td>\n",
              "    </tr>\n",
              "  </tbody>\n",
              "</table>\n",
              "</div>"
            ],
            "text/plain": [
              "     Year        Type Country            Name Sex Age Fatal Month Century  \\\n",
              "0  2016.0  Unprovoked     USA            male   M  16     N   Sep     XXI   \n",
              "1  2016.0  Unprovoked     USA  Chucky Luciano   M  36     N   Sep     XXI   \n",
              "2  2016.0  Unprovoked     USA            male   M  43     N   Sep     XXI   \n",
              "\n",
              "  Activities  \n",
              "0    Surfing  \n",
              "1    Surfing  \n",
              "2    Surfing  "
            ]
          },
          "metadata": {},
          "output_type": "display_data"
        }
      ],
      "source": [
        "# I won't need 'Activity' column anymore:\n",
        "\n",
        "df = df.drop(['Activity'], axis=1)\n",
        "display(df.head(3))"
      ]
    },
    {
      "cell_type": "markdown",
      "metadata": {
        "id": "IT2ZfOatGCY_"
      },
      "source": [
        "**Results:** Sharks mostly bite victims who are swimming, surfing, fishing or diving.\n",
        "\n",
        "✔️ *Humans do some weird stuff (activities) to make it easier for sharks to locate them.*"
      ]
    },
    {
      "cell_type": "markdown",
      "metadata": {
        "id": "ugV0t2xRGCZA"
      },
      "source": [
        "### Sex"
      ]
    },
    {
      "cell_type": "code",
      "execution_count": null,
      "metadata": {
        "id": "GgFrEZG2GCZC",
        "outputId": "c0327646-c8b3-4d47-8817-28810f09c413"
      },
      "outputs": [
        {
          "data": {
            "text/plain": [
              "M    4848\n",
              "F     585\n",
              "Name: Sex, dtype: int64"
            ]
          },
          "execution_count": 48,
          "metadata": {},
          "output_type": "execute_result"
        }
      ],
      "source": [
        "df['Sex'].value_counts()"
      ]
    },
    {
      "cell_type": "code",
      "execution_count": null,
      "metadata": {
        "id": "yf74ckVfGCZC",
        "outputId": "c99e8826-8872-4e21-eca5-d6878b7a8fc7"
      },
      "outputs": [
        {
          "data": {
            "image/png": "[encoded data removed]",
            "text/plain": [
              "<Figure size 432x432 with 1 Axes>"
            ]
          },
          "metadata": {},
          "output_type": "display_data"
        }
      ],
      "source": [
        "explode = [0.1 for i in range(len(df['Sex'].value_counts().index.tolist()))]\n",
        "\n",
        "fig = plt.gcf()\n",
        "fig.set_size_inches(6,6)\n",
        "plt.pie([e for e in df['Sex'].value_counts()], explode = explode, labels= df['Sex'].value_counts().index.tolist(), autopct='%1.1f%%', shadow=True, startangle=140)\n",
        "plt.axis('equal')\n",
        "plt.show()"
      ]
    },
    {
      "cell_type": "code",
      "execution_count": null,
      "metadata": {
        "id": "99AM-rG_GCZD"
      },
      "outputs": [],
      "source": [
        "df = df.drop(['Name'], axis=1)"
      ]
    },
    {
      "cell_type": "markdown",
      "metadata": {
        "id": "CN2BnXJGGCZD"
      },
      "source": [
        "**Results:** Sharks mostly attack men (89.2% male vs. 10.8% female).\n",
        "\n",
        "✔️ *Are you a woman (female sex)? Good news: you're probably not going to get bitten by a shark.*"
      ]
    },
    {
      "cell_type": "markdown",
      "metadata": {
        "id": "JeSVQzQqGCZE"
      },
      "source": [
        "### Type"
      ]
    },
    {
      "cell_type": "code",
      "execution_count": null,
      "metadata": {
        "id": "DvkzMb_-GCZE",
        "outputId": "093fc430-79d1-4c6e-e199-346f3dac5622"
      },
      "outputs": [
        {
          "name": "stdout",
          "output_type": "stream",
          "text": [
            "{'Sea Disaster', 'Provoked', 'Unprovoked', 'Boating', 'Boat', 'Invalid'}\n",
            "{'Provoked', 'Unprovoked', nan}\n"
          ]
        },
        {
          "data": {
            "text/plain": [
              "Unprovoked    4916\n",
              "Provoked       557\n",
              "Name: Type, dtype: int64"
            ]
          },
          "execution_count": 51,
          "metadata": {},
          "output_type": "execute_result"
        }
      ],
      "source": [
        "print(set(df['Type']))\n",
        "\n",
        "df['Type'].replace({'Boating': 'Unprovoked'}, inplace=True)\n",
        "df['Type'].replace({'Boat': 'Unprovoked'}, inplace=True)\n",
        "df['Type'].replace({'Sea Disaster': 'Unprovoked'}, inplace=True)\n",
        "df['Type'].replace({'Invalid': np.nan}, inplace=True)\n",
        "\n",
        "print(set(df['Type']))\n",
        "df['Type'].value_counts()"
      ]
    },
    {
      "cell_type": "code",
      "execution_count": null,
      "metadata": {
        "id": "8SlREoUKGCZF",
        "outputId": "2e872734-f978-4e73-a617-fd21ec777643"
      },
      "outputs": [
        {
          "data": {
            "image/png": "[encoded data removed]",
            "text/plain": [
              "<Figure size 432x432 with 1 Axes>"
            ]
          },
          "metadata": {},
          "output_type": "display_data"
        }
      ],
      "source": [
        "explode = [0.1 for i in range(len(df['Type'].value_counts().index.tolist()))]\n",
        "\n",
        "fig = plt.gcf()\n",
        "fig.set_size_inches(6,6)\n",
        "plt.pie([e for e in df['Type'].value_counts()], explode = explode, labels= df['Type'].value_counts().index.tolist(), autopct='%1.1f%%', shadow=True, startangle=140)\n",
        "plt.axis('equal')\n",
        "plt.show()"
      ]
    },
    {
      "cell_type": "markdown",
      "metadata": {
        "id": "Tqb4DjGXGCZF"
      },
      "source": [
        "**Results:** Most attacks are unprovoked (89.8% unprovoked vs. 10.2% provoked).\n",
        "\n",
        "✔️ *Most attacks are of type unprovoked"
      ]
    },
    {
      "cell_type": "markdown",
      "metadata": {
        "id": "0FJw8pkGGCZF"
      },
      "source": [
        "### Age"
      ]
    },
    {
      "cell_type": "code",
      "execution_count": null,
      "metadata": {
        "id": "fbmDPkdVGCZG",
        "outputId": "fd4998cc-c68b-4388-87d3-76288cd1b931"
      },
      "outputs": [
        {
          "name": "stdout",
          "output_type": "stream",
          "text": [
            "[54, 37, 72, 92, 98, 136, 135, 149, 146, 140, 145, 117, 113, 81, 104, 101, 83, 80, 78, 77, 83, 54, 65, 42, 45, 66, 41, 37, 48, 37, 54, 34, 36, 43, 29, 32, 25, 28, 25, 27, 35, 19, 34, 13, 14, 20, 9, 14, 12, 11, 16, 11, 8, 9, 4, 4, 3, 1, 6, 8, 6, 3, 1, 1, 2, 2, 3, 2, 1, 1, 1, 1]\n",
            "[10, 11, 12, 13, 14, 15, 16, 17, 18, 19, 20, 21, 22, 23, 24, 25, 26, 27, 28, 29, 30, 31, 32, 33, 34, 35, 36, 37, 38, 39, 40, 41, 42, 43, 44, 45, 46, 47, 48, 49, 50, 51, 52, 53, 54, 55, 56, 57, 58, 59, 60, 61, 62, 63, 64, 65, 66, 67, 68, 69, 70, 71, 72, 73, 74, 75, 77, 78, 81, 84, 86, 87]\n"
          ]
        }
      ],
      "source": [
        "# df[\"Age\"].value_counts().sort_index()\n",
        "Age_values = [int(e) for e in df[\"Age\"].value_counts().sort_index()]\n",
        "Age_labels = df[\"Age\"].value_counts().sort_index().index.tolist()\n",
        "Age_labels_2 = [int(e) for e in Age_labels]\n",
        "print(Age_values)\n",
        "print(Age_labels_2)"
      ]
    },
    {
      "cell_type": "code",
      "execution_count": null,
      "metadata": {
        "id": "bvI0iUYlGCZH",
        "outputId": "1904debd-64dc-47b7-d3a0-77ecb00ac6ae"
      },
      "outputs": [
        {
          "data": {
            "text/plain": [
              "<matplotlib.collections.PathCollection at 0x2c71c897f60>"
            ]
          },
          "execution_count": 56,
          "metadata": {},
          "output_type": "execute_result"
        },
        {
          "data": {
            "image/png": "[encoded data removed]",
            "text/plain": [
              "<Figure size 720x720 with 1 Axes>"
            ]
          },
          "metadata": {
            "needs_background": "light"
          },
          "output_type": "display_data"
        }
      ],
      "source": [
        "plt.title('Age')\n",
        "plt.xlabel('Age')\n",
        "plt.ylabel('Value counts')\n",
        "fig = plt.gcf()\n",
        "fig.set_size_inches(10,10)\n",
        "plt.scatter(Age_labels_2, Age_values)"
      ]
    },
    {
      "cell_type": "markdown",
      "metadata": {
        "id": "NWoJUFnjGCZI"
      },
      "source": [
        "**Results:** Sharks mostly attack young people (maximum at about 20 years old).\n",
        "\n",
        "✔️ *It is ok to feed sharks with tender meat (young age people).*"
      ]
    },
    {
      "cell_type": "markdown",
      "metadata": {
        "id": "CRVp6n57GCZI"
      },
      "source": [
        "### Country"
      ]
    },
    {
      "cell_type": "code",
      "execution_count": null,
      "metadata": {
        "id": "Tcyy5f4ZGCZI",
        "outputId": "65e6c296-1cf1-4624-c5bc-5f69d1e7774a"
      },
      "outputs": [
        {
          "name": "stdout",
          "output_type": "stream",
          "text": [
            "{'Usa', 'New Zealand', 'Philippines', 'New Caledonia', 'Italy', 'Bahamas', 'Australia', 'Mexico', 'South Africa', 'Others', 'Brazil', 'Papua New Guinea', 'Fiji', 'Reunion'}\n"
          ]
        }
      ],
      "source": [
        "# print(df['Country'].value_counts())\n",
        "\n",
        "# I'm going to create an \"Others\" category to englobe countries with a value_count < 50:\n",
        "\n",
        "selected_countries = df['Country'].value_counts().index.tolist()[0:13]\n",
        "\n",
        "Countries = [e.title() if e in selected_countries else 'Others' for e in df['Country']]\n",
        "print(set(Countries))\n"
      ]
    },
    {
      "cell_type": "code",
      "execution_count": null,
      "metadata": {
        "id": "eM6DHf97GCZI",
        "outputId": "8361801a-4a7e-444d-a9e4-aa503cd8952d"
      },
      "outputs": [
        {
          "data": {
            "text/html": [
              "<div>\n",
              "<style scoped>\n",
              "    .dataframe tbody tr th:only-of-type {\n",
              "        vertical-align: middle;\n",
              "    }\n",
              "\n",
              "    .dataframe tbody tr th {\n",
              "        vertical-align: top;\n",
              "    }\n",
              "\n",
              "    .dataframe thead th {\n",
              "        text-align: right;\n",
              "    }\n",
              "</style>\n",
              "<table border=\"1\" class=\"dataframe\">\n",
              "  <thead>\n",
              "    <tr style=\"text-align: right;\">\n",
              "      <th></th>\n",
              "      <th>Year</th>\n",
              "      <th>Type</th>\n",
              "      <th>Sex</th>\n",
              "      <th>Fatal</th>\n",
              "      <th>Month</th>\n",
              "      <th>Century</th>\n",
              "      <th>Activities</th>\n",
              "      <th>Age</th>\n",
              "      <th>Country</th>\n",
              "    </tr>\n",
              "  </thead>\n",
              "  <tbody>\n",
              "    <tr>\n",
              "      <th>0</th>\n",
              "      <td>2016.0</td>\n",
              "      <td>Unprovoked</td>\n",
              "      <td>M</td>\n",
              "      <td>N</td>\n",
              "      <td>Sep</td>\n",
              "      <td>XXI</td>\n",
              "      <td>Surfing</td>\n",
              "      <td>16.0</td>\n",
              "      <td>Usa</td>\n",
              "    </tr>\n",
              "    <tr>\n",
              "      <th>1</th>\n",
              "      <td>2016.0</td>\n",
              "      <td>Unprovoked</td>\n",
              "      <td>M</td>\n",
              "      <td>N</td>\n",
              "      <td>Sep</td>\n",
              "      <td>XXI</td>\n",
              "      <td>Surfing</td>\n",
              "      <td>36.0</td>\n",
              "      <td>Usa</td>\n",
              "    </tr>\n",
              "    <tr>\n",
              "      <th>2</th>\n",
              "      <td>2016.0</td>\n",
              "      <td>Unprovoked</td>\n",
              "      <td>M</td>\n",
              "      <td>N</td>\n",
              "      <td>Sep</td>\n",
              "      <td>XXI</td>\n",
              "      <td>Surfing</td>\n",
              "      <td>43.0</td>\n",
              "      <td>Usa</td>\n",
              "    </tr>\n",
              "  </tbody>\n",
              "</table>\n",
              "</div>"
            ],
            "text/plain": [
              "     Year        Type Sex Fatal Month Century Activities   Age Country\n",
              "0  2016.0  Unprovoked   M     N   Sep     XXI    Surfing  16.0     Usa\n",
              "1  2016.0  Unprovoked   M     N   Sep     XXI    Surfing  36.0     Usa\n",
              "2  2016.0  Unprovoked   M     N   Sep     XXI    Surfing  43.0     Usa"
            ]
          },
          "metadata": {},
          "output_type": "display_data"
        }
      ],
      "source": [
        "df = df.drop(['Country'], axis=1)\n",
        "df['Country'] = Countries\n",
        "display(df.head(3))"
      ]
    },
    {
      "cell_type": "code",
      "execution_count": null,
      "metadata": {
        "id": "XtBvZJIwGCZJ",
        "outputId": "f350ecdf-4a1e-441a-db71-db26ee76c1b8"
      },
      "outputs": [
        {
          "data": {
            "text/html": [
              "<div>\n",
              "<style scoped>\n",
              "    .dataframe tbody tr th:only-of-type {\n",
              "        vertical-align: middle;\n",
              "    }\n",
              "\n",
              "    .dataframe tbody tr th {\n",
              "        vertical-align: top;\n",
              "    }\n",
              "\n",
              "    .dataframe thead th {\n",
              "        text-align: right;\n",
              "    }\n",
              "</style>\n",
              "<table border=\"1\" class=\"dataframe\">\n",
              "  <thead>\n",
              "    <tr style=\"text-align: right;\">\n",
              "      <th></th>\n",
              "      <th>Year</th>\n",
              "      <th>Type</th>\n",
              "      <th>Sex</th>\n",
              "      <th>Fatal</th>\n",
              "      <th>Month</th>\n",
              "      <th>Century</th>\n",
              "      <th>Activities</th>\n",
              "      <th>Age</th>\n",
              "      <th>Country</th>\n",
              "    </tr>\n",
              "  </thead>\n",
              "  <tbody>\n",
              "    <tr>\n",
              "      <th>0</th>\n",
              "      <td>2016.0</td>\n",
              "      <td>Unprovoked</td>\n",
              "      <td>M</td>\n",
              "      <td>N</td>\n",
              "      <td>Sep</td>\n",
              "      <td>XXI</td>\n",
              "      <td>Surfing</td>\n",
              "      <td>16.0</td>\n",
              "      <td>USA</td>\n",
              "    </tr>\n",
              "    <tr>\n",
              "      <th>1</th>\n",
              "      <td>2016.0</td>\n",
              "      <td>Unprovoked</td>\n",
              "      <td>M</td>\n",
              "      <td>N</td>\n",
              "      <td>Sep</td>\n",
              "      <td>XXI</td>\n",
              "      <td>Surfing</td>\n",
              "      <td>36.0</td>\n",
              "      <td>USA</td>\n",
              "    </tr>\n",
              "    <tr>\n",
              "      <th>2</th>\n",
              "      <td>2016.0</td>\n",
              "      <td>Unprovoked</td>\n",
              "      <td>M</td>\n",
              "      <td>N</td>\n",
              "      <td>Sep</td>\n",
              "      <td>XXI</td>\n",
              "      <td>Surfing</td>\n",
              "      <td>43.0</td>\n",
              "      <td>USA</td>\n",
              "    </tr>\n",
              "  </tbody>\n",
              "</table>\n",
              "</div>"
            ],
            "text/plain": [
              "     Year        Type Sex Fatal Month Century Activities   Age Country\n",
              "0  2016.0  Unprovoked   M     N   Sep     XXI    Surfing  16.0     USA\n",
              "1  2016.0  Unprovoked   M     N   Sep     XXI    Surfing  36.0     USA\n",
              "2  2016.0  Unprovoked   M     N   Sep     XXI    Surfing  43.0     USA"
            ]
          },
          "metadata": {},
          "output_type": "display_data"
        },
        {
          "name": "stdout",
          "output_type": "stream",
          "text": [
            "{'New Zealand', 'Papua New Guinea', 'New Caledonia', 'Philippines', 'Italy', 'Bahamas', 'Australia', 'Mexico', 'South Africa', 'Others', 'Brazil', 'USA', 'Fiji', 'Reunion'}\n"
          ]
        }
      ],
      "source": [
        "df['Country'].replace({'Usa': 'USA'}, inplace=True)\n",
        "display(df.head(3))\n",
        "print(set(df['Country']))"
      ]
    },
    {
      "cell_type": "code",
      "execution_count": null,
      "metadata": {
        "id": "VRkNL5Y7GCZJ"
      },
      "outputs": [],
      "source": [
        "explode = [0.1 for i in range(len(df['Country'].value_counts().index.tolist()))]\n",
        "explode = explode[0:5]\n",
        "country_values = [e for e in df['Country'].value_counts()]\n",
        "country_values_2 = country_values[0:5]\n",
        "country_values_2[2] += sum(country_values[5:])\n",
        "country_labels = df['Country'].value_counts().index.tolist()\n",
        "country_labels = country_labels[0:5]"
      ]
    },
    {
      "cell_type": "code",
      "execution_count": null,
      "metadata": {
        "id": "C3d0-rCmGCZK",
        "outputId": "59a6598c-6a22-4357-a468-96021fcd45b2"
      },
      "outputs": [
        {
          "data": {
            "image/png": "[encoded data removed]",
            "text/plain": [
              "<Figure size 432x432 with 1 Axes>"
            ]
          },
          "metadata": {},
          "output_type": "display_data"
        }
      ],
      "source": [
        "fig = plt.gcf()\n",
        "fig.set_size_inches(6,6)\n",
        "plt.pie(country_values_2, explode = explode, labels= country_labels, autopct='%1.1f%%', shadow=True, startangle=140)\n",
        "plt.axis('equal')\n",
        "plt.show()"
      ]
    },
    {
      "cell_type": "code",
      "execution_count": null,
      "metadata": {
        "id": "5cib6lrSGCZK",
        "outputId": "2da8655e-17c3-4923-ca1a-c9afc5ed8cbc"
      },
      "outputs": [
        {
          "data": {
            "text/plain": [
              "<matplotlib.axes._subplots.AxesSubplot at 0x2c71c938d68>"
            ]
          },
          "execution_count": 62,
          "metadata": {},
          "output_type": "execute_result"
        },
        {
          "data": {
            "image/png": "[encoded data removed]",
            "text/plain": [
              "<Figure size 432x288 with 1 Axes>"
            ]
          },
          "metadata": {
            "needs_background": "light"
          },
          "output_type": "display_data"
        }
      ],
      "source": [
        "plt.title('Country')\n",
        "plt.xlabel('Country')\n",
        "plt.ylabel('Value counts')\n",
        "df['Country'].value_counts().plot(kind='bar')"
      ]
    },
    {
      "cell_type": "markdown",
      "metadata": {
        "id": "zufAA3rVGCZL"
      },
      "source": [
        "**Results:** Most attacks occur in the USA and Australia.\n",
        "\n",
        "✔️ *USA will be the most affected country, because it is the cradle of jazz.*"
      ]
    },
    {
      "cell_type": "markdown",
      "metadata": {
        "id": "JmUgEdzlGCZL"
      },
      "source": [
        "### Case Number"
      ]
    },
    {
      "cell_type": "code",
      "execution_count": null,
      "metadata": {
        "id": "aj6Ws7azGCZN",
        "outputId": "c3c7d6f9-74fa-44ed-8c63-595f5361adb8"
      },
      "outputs": [
        {
          "data": {
            "text/html": [
              "<div>\n",
              "<style scoped>\n",
              "    .dataframe tbody tr th:only-of-type {\n",
              "        vertical-align: middle;\n",
              "    }\n",
              "\n",
              "    .dataframe tbody tr th {\n",
              "        vertical-align: top;\n",
              "    }\n",
              "\n",
              "    .dataframe thead th {\n",
              "        text-align: right;\n",
              "    }\n",
              "</style>\n",
              "<table border=\"1\" class=\"dataframe\">\n",
              "  <thead>\n",
              "    <tr style=\"text-align: right;\">\n",
              "      <th></th>\n",
              "      <th>Century</th>\n",
              "      <th>Activities</th>\n",
              "      <th>Activities_Century</th>\n",
              "    </tr>\n",
              "  </thead>\n",
              "  <tbody>\n",
              "    <tr>\n",
              "      <th>0</th>\n",
              "      <td>XVI</td>\n",
              "      <td>Diving</td>\n",
              "      <td>1</td>\n",
              "    </tr>\n",
              "    <tr>\n",
              "      <th>1</th>\n",
              "      <td>XVI</td>\n",
              "      <td>Others</td>\n",
              "      <td>2</td>\n",
              "    </tr>\n",
              "    <tr>\n",
              "      <th>2</th>\n",
              "      <td>XVI</td>\n",
              "      <td>Swimming</td>\n",
              "      <td>1</td>\n",
              "    </tr>\n",
              "    <tr>\n",
              "      <th>3</th>\n",
              "      <td>XVII</td>\n",
              "      <td>Others</td>\n",
              "      <td>1</td>\n",
              "    </tr>\n",
              "    <tr>\n",
              "      <th>4</th>\n",
              "      <td>XVII</td>\n",
              "      <td>ShoreActivities</td>\n",
              "      <td>1</td>\n",
              "    </tr>\n",
              "    <tr>\n",
              "      <th>5</th>\n",
              "      <td>XVII</td>\n",
              "      <td>Swimming</td>\n",
              "      <td>1</td>\n",
              "    </tr>\n",
              "    <tr>\n",
              "      <th>6</th>\n",
              "      <td>XVIII</td>\n",
              "      <td>Diving</td>\n",
              "      <td>1</td>\n",
              "    </tr>\n",
              "    <tr>\n",
              "      <th>7</th>\n",
              "      <td>XVIII</td>\n",
              "      <td>Fishing</td>\n",
              "      <td>2</td>\n",
              "    </tr>\n",
              "    <tr>\n",
              "      <th>8</th>\n",
              "      <td>XVIII</td>\n",
              "      <td>Others</td>\n",
              "      <td>2</td>\n",
              "    </tr>\n",
              "    <tr>\n",
              "      <th>9</th>\n",
              "      <td>XVIII</td>\n",
              "      <td>Surfing</td>\n",
              "      <td>1</td>\n",
              "    </tr>\n",
              "    <tr>\n",
              "      <th>10</th>\n",
              "      <td>XVIII</td>\n",
              "      <td>Swimming</td>\n",
              "      <td>10</td>\n",
              "    </tr>\n",
              "    <tr>\n",
              "      <th>11</th>\n",
              "      <td>XIX</td>\n",
              "      <td>Diving</td>\n",
              "      <td>28</td>\n",
              "    </tr>\n",
              "    <tr>\n",
              "      <th>12</th>\n",
              "      <td>XIX</td>\n",
              "      <td>Fishing</td>\n",
              "      <td>55</td>\n",
              "    </tr>\n",
              "    <tr>\n",
              "      <th>13</th>\n",
              "      <td>XIX</td>\n",
              "      <td>Others</td>\n",
              "      <td>128</td>\n",
              "    </tr>\n",
              "    <tr>\n",
              "      <th>14</th>\n",
              "      <td>XIX</td>\n",
              "      <td>Paddling</td>\n",
              "      <td>6</td>\n",
              "    </tr>\n",
              "    <tr>\n",
              "      <th>15</th>\n",
              "      <td>XIX</td>\n",
              "      <td>Sailing</td>\n",
              "      <td>17</td>\n",
              "    </tr>\n",
              "    <tr>\n",
              "      <th>16</th>\n",
              "      <td>XIX</td>\n",
              "      <td>ShoreActivities</td>\n",
              "      <td>12</td>\n",
              "    </tr>\n",
              "    <tr>\n",
              "      <th>17</th>\n",
              "      <td>XIX</td>\n",
              "      <td>Surfing</td>\n",
              "      <td>1</td>\n",
              "    </tr>\n",
              "    <tr>\n",
              "      <th>18</th>\n",
              "      <td>XIX</td>\n",
              "      <td>Swimming</td>\n",
              "      <td>191</td>\n",
              "    </tr>\n",
              "    <tr>\n",
              "      <th>19</th>\n",
              "      <td>XIX</td>\n",
              "      <td>WaterSkiing</td>\n",
              "      <td>1</td>\n",
              "    </tr>\n",
              "    <tr>\n",
              "      <th>20</th>\n",
              "      <td>XX</td>\n",
              "      <td>Diving</td>\n",
              "      <td>357</td>\n",
              "    </tr>\n",
              "    <tr>\n",
              "      <th>21</th>\n",
              "      <td>XX</td>\n",
              "      <td>Fishing</td>\n",
              "      <td>479</td>\n",
              "    </tr>\n",
              "    <tr>\n",
              "      <th>22</th>\n",
              "      <td>XX</td>\n",
              "      <td>Freediving</td>\n",
              "      <td>46</td>\n",
              "    </tr>\n",
              "    <tr>\n",
              "      <th>23</th>\n",
              "      <td>XX</td>\n",
              "      <td>Others</td>\n",
              "      <td>499</td>\n",
              "    </tr>\n",
              "    <tr>\n",
              "      <th>24</th>\n",
              "      <td>XX</td>\n",
              "      <td>Paddling</td>\n",
              "      <td>38</td>\n",
              "    </tr>\n",
              "    <tr>\n",
              "      <th>25</th>\n",
              "      <td>XX</td>\n",
              "      <td>Sailing</td>\n",
              "      <td>15</td>\n",
              "    </tr>\n",
              "    <tr>\n",
              "      <th>26</th>\n",
              "      <td>XX</td>\n",
              "      <td>ShoreActivities</td>\n",
              "      <td>189</td>\n",
              "    </tr>\n",
              "    <tr>\n",
              "      <th>27</th>\n",
              "      <td>XX</td>\n",
              "      <td>Sinking</td>\n",
              "      <td>16</td>\n",
              "    </tr>\n",
              "    <tr>\n",
              "      <th>28</th>\n",
              "      <td>XX</td>\n",
              "      <td>Spearfishing</td>\n",
              "      <td>280</td>\n",
              "    </tr>\n",
              "    <tr>\n",
              "      <th>29</th>\n",
              "      <td>XX</td>\n",
              "      <td>Surfing</td>\n",
              "      <td>413</td>\n",
              "    </tr>\n",
              "    <tr>\n",
              "      <th>30</th>\n",
              "      <td>XX</td>\n",
              "      <td>Swimming</td>\n",
              "      <td>795</td>\n",
              "    </tr>\n",
              "    <tr>\n",
              "      <th>31</th>\n",
              "      <td>XX</td>\n",
              "      <td>WaterSkiing</td>\n",
              "      <td>49</td>\n",
              "    </tr>\n",
              "    <tr>\n",
              "      <th>32</th>\n",
              "      <td>XX</td>\n",
              "      <td>Windsurfing</td>\n",
              "      <td>16</td>\n",
              "    </tr>\n",
              "    <tr>\n",
              "      <th>33</th>\n",
              "      <td>XXI</td>\n",
              "      <td>Diving</td>\n",
              "      <td>112</td>\n",
              "    </tr>\n",
              "    <tr>\n",
              "      <th>34</th>\n",
              "      <td>XXI</td>\n",
              "      <td>Fishing</td>\n",
              "      <td>173</td>\n",
              "    </tr>\n",
              "    <tr>\n",
              "      <th>35</th>\n",
              "      <td>XXI</td>\n",
              "      <td>Freediving</td>\n",
              "      <td>61</td>\n",
              "    </tr>\n",
              "    <tr>\n",
              "      <th>36</th>\n",
              "      <td>XXI</td>\n",
              "      <td>Others</td>\n",
              "      <td>101</td>\n",
              "    </tr>\n",
              "    <tr>\n",
              "      <th>37</th>\n",
              "      <td>XXI</td>\n",
              "      <td>Paddling</td>\n",
              "      <td>41</td>\n",
              "    </tr>\n",
              "    <tr>\n",
              "      <th>38</th>\n",
              "      <td>XXI</td>\n",
              "      <td>Sailing</td>\n",
              "      <td>2</td>\n",
              "    </tr>\n",
              "    <tr>\n",
              "      <th>39</th>\n",
              "      <td>XXI</td>\n",
              "      <td>ShoreActivities</td>\n",
              "      <td>156</td>\n",
              "    </tr>\n",
              "    <tr>\n",
              "      <th>40</th>\n",
              "      <td>XXI</td>\n",
              "      <td>Sinking</td>\n",
              "      <td>6</td>\n",
              "    </tr>\n",
              "    <tr>\n",
              "      <th>41</th>\n",
              "      <td>XXI</td>\n",
              "      <td>Spearfishing</td>\n",
              "      <td>115</td>\n",
              "    </tr>\n",
              "    <tr>\n",
              "      <th>42</th>\n",
              "      <td>XXI</td>\n",
              "      <td>Surfing</td>\n",
              "      <td>598</td>\n",
              "    </tr>\n",
              "    <tr>\n",
              "      <th>43</th>\n",
              "      <td>XXI</td>\n",
              "      <td>Swimming</td>\n",
              "      <td>303</td>\n",
              "    </tr>\n",
              "    <tr>\n",
              "      <th>44</th>\n",
              "      <td>XXI</td>\n",
              "      <td>WaterSkiing</td>\n",
              "      <td>111</td>\n",
              "    </tr>\n",
              "    <tr>\n",
              "      <th>45</th>\n",
              "      <td>XXI</td>\n",
              "      <td>Windsurfing</td>\n",
              "      <td>4</td>\n",
              "    </tr>\n",
              "  </tbody>\n",
              "</table>\n",
              "</div>"
            ],
            "text/plain": [
              "   Century       Activities  Activities_Century\n",
              "0      XVI           Diving                   1\n",
              "1      XVI           Others                   2\n",
              "2      XVI         Swimming                   1\n",
              "3     XVII           Others                   1\n",
              "4     XVII  ShoreActivities                   1\n",
              "5     XVII         Swimming                   1\n",
              "6    XVIII           Diving                   1\n",
              "7    XVIII          Fishing                   2\n",
              "8    XVIII           Others                   2\n",
              "9    XVIII          Surfing                   1\n",
              "10   XVIII         Swimming                  10\n",
              "11     XIX           Diving                  28\n",
              "12     XIX          Fishing                  55\n",
              "13     XIX           Others                 128\n",
              "14     XIX         Paddling                   6\n",
              "15     XIX          Sailing                  17\n",
              "16     XIX  ShoreActivities                  12\n",
              "17     XIX          Surfing                   1\n",
              "18     XIX         Swimming                 191\n",
              "19     XIX      WaterSkiing                   1\n",
              "20      XX           Diving                 357\n",
              "21      XX          Fishing                 479\n",
              "22      XX       Freediving                  46\n",
              "23      XX           Others                 499\n",
              "24      XX         Paddling                  38\n",
              "25      XX          Sailing                  15\n",
              "26      XX  ShoreActivities                 189\n",
              "27      XX          Sinking                  16\n",
              "28      XX     Spearfishing                 280\n",
              "29      XX          Surfing                 413\n",
              "30      XX         Swimming                 795\n",
              "31      XX      WaterSkiing                  49\n",
              "32      XX      Windsurfing                  16\n",
              "33     XXI           Diving                 112\n",
              "34     XXI          Fishing                 173\n",
              "35     XXI       Freediving                  61\n",
              "36     XXI           Others                 101\n",
              "37     XXI         Paddling                  41\n",
              "38     XXI          Sailing                   2\n",
              "39     XXI  ShoreActivities                 156\n",
              "40     XXI          Sinking                   6\n",
              "41     XXI     Spearfishing                 115\n",
              "42     XXI          Surfing                 598\n",
              "43     XXI         Swimming                 303\n",
              "44     XXI      WaterSkiing                 111\n",
              "45     XXI      Windsurfing                   4"
            ]
          },
          "metadata": {},
          "output_type": "display_data"
        }
      ],
      "source": [
        "display(df2.groupby([\"Century\", \"Activities\"]).size().reset_index(name=\"Activities_Century\"))"
      ]
    },
    {
      "cell_type": "markdown",
      "metadata": {
        "id": "9ZTXFYUEGCYO"
      },
      "source": [
        "##  My hypotheses:\n",
        "\n",
        "* Most attacks are not **fatal**\n",
        "* **July** is the month in which there are more attacks,\n",
        "* Humans get into the sea in any **month** of the year.\n",
        "* With each passing **year** (and **century**), more people go swimming in the sea.\n",
        "* Humans do some weird stuff (**activities**) to make it easier for sharks to locate them.\n",
        "* Are you a woman (female **sex**)? [Good news: you're probably not going to get bitten by a shark]\n",
        "* Most attacks are of type **unprovoked**.\n",
        "* **USA** will be the most affected **country**\n"
      ]
    }
  ],
  "metadata": {
    "kernelspec": {
      "display_name": "Python 3",
      "language": "python",
      "name": "python3"
    },
    "language_info": {
      "codemirror_mode": {
        "name": "ipython",
        "version": 3
      },
      "file_extension": ".py",
      "mimetype": "text/x-python",
      "name": "python",
      "nbconvert_exporter": "python",
      "pygments_lexer": "ipython3",
      "version": "3.7.3"
    },
    "colab": {
      "provenance": []
    }
  },
  "nbformat": 4,
  "nbformat_minor": 0
}